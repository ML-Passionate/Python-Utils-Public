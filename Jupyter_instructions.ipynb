{
 "cells": [
  {
   "cell_type": "markdown",
   "metadata": {},
   "source": [
    "<div class='row'>\n",
    "<div class='col-xs-3'>\n",
    "<img src=\"https://quantra.quantinsti.com/images/img_logo.svg\" width=\"90px\" height=\"65px\" style=\"display: inline-block;\">\n",
    "</div>\n",
    "<div class='col-xs-9'>\n",
    "<h2 style='color:#333333;'> Welcome to Quantra! </h2>\n",
    "</div>\n",
    "</div>\n",
    "\n",
    "The Notebook is an equivalent to a temporary Python shell, embedded in the browser. \n",
    "\n",
    "You will be using this tool across the courses on Quantra.\n",
    "\n",
    "<div class=\"alert alert-warning\" role=\"alert\" style=\"margin: 10px 0;\">\n",
    "<p>**WARNING**</p>\n",
    "\n",
    "<p>Don't rely on this notebook for anything you want to persist for future - all your code will be *deleted after a few minutes*.</p>\n",
    "</div>\n",
    "\n",
    "<p>Each notebook is divided into a set of cells, which has either code, comments or instructions.</p>\n",
    "\n",
    "<p>To navigate between cells, you can use the arrow keys on your keyboard.</p>\n",
    "\n",
    "<p>Here is a list of other keyboard shortcuts, that you'll be needing to run the code:</p>\n",
    "\n",
    "<table class='pull-left'>\n",
    "<tr>\n",
    "<th>#</th>\n",
    "<th style='color:#333333'>Key combination</th>\n",
    "<th style='color:#333333'>Use</th>\n",
    "</tr>\n",
    "\n",
    "<tr>\n",
    "<td>1.</td>\n",
    "<td>Enter</td>\n",
    "<td>Enter edit mode</td>\n",
    "</tr>\n",
    "\n",
    "<tr>\n",
    "<td>2.</td>\n",
    "<td>Ctrl-Enter</td>\n",
    "<td>Run cell</td>\n",
    "</tr>\n",
    "\n",
    "<tr>\n",
    "<td>3.</td>\n",
    "<td>Shift-Enter</td>\n",
    "<td>Run cell, select below</td>\n",
    "</tr>\n",
    "\n",
    "<tr>\n",
    "<td>4.</td>\n",
    "<td>Alt-enter</td>\n",
    "<td>Run cell, insert below</td>\n",
    "</tr>\n",
    "</table>\n",
    "\n",
    "<div class='clearfix'></div>\n",
    "\n",
    "<strong style='color:#333333'>Let's get started!</strong>"
   ]
  },
  {
   "cell_type": "markdown",
   "metadata": {},
   "source": [
    "<div>\n",
    "<p>To <strong style='color:#333333'>run a code inline</strong>, you can press <strong style='color:#333333'><i>Ctrl + Enter</i></strong></p>\n",
    "<p>Please select the next cell to activate it, and press Ctrl + Enter to see it in action.</p>\n",
    "</div>"
   ]
  },
  {
   "cell_type": "code",
   "execution_count": 1,
   "metadata": {},
   "outputs": [
    {
     "name": "stdout",
     "output_type": "stream",
     "text": [
      "I love Python\n"
     ]
    }
   ],
   "source": [
    "print(\"I love Python\")"
   ]
  },
  {
   "cell_type": "markdown",
   "metadata": {},
   "source": [
    "<div>\n",
    "<p>To <strong style='color:#333333'>run a cell and move the cursor to next cell/line</strong>, you can press <strong style='color:#333333'><i>Shift + Enter</i></strong></p>\n",
    "<p>Please select the next cell to activate it, and press Shift + Enter to see it in action.</p>\n",
    "</div>"
   ]
  },
  {
   "cell_type": "code",
   "execution_count": 2,
   "metadata": {},
   "outputs": [
    {
     "name": "stdout",
     "output_type": "stream",
     "text": [
      "Learning is fun\n"
     ]
    }
   ],
   "source": [
    "print(\"Learning is fun\")"
   ]
  },
  {
   "cell_type": "markdown",
   "metadata": {},
   "source": [
    "<div>\n",
    "<p>To <strong style='color:#333333'>run a cell and add a new cell</strong> below current one, you can press <strong style='color:#333333'><i>Alt + Enter</i></strong></p>\n",
    "<p>Please select the next cell to activate it, and press Alt + Enter to see it in action.</p>\n",
    "</div>"
   ]
  },
  {
   "cell_type": "code",
   "execution_count": 3,
   "metadata": {},
   "outputs": [
    {
     "name": "stdout",
     "output_type": "stream",
     "text": [
      "Coding is exciting\n"
     ]
    }
   ],
   "source": [
    "print(\"Coding is exciting\")"
   ]
  },
  {
   "cell_type": "markdown",
   "metadata": {},
   "source": [
    "You can also run <strong style='color:#333333'>multiple lines</strong> of a code block, and not just print statements.\n",
    "<p>Please activate the next cell, and use any of your preferred key combinations to run it.</p>"
   ]
  },
  {
   "cell_type": "code",
   "execution_count": 4,
   "metadata": {},
   "outputs": [
    {
     "name": "stdout",
     "output_type": "stream",
     "text": [
      "Big is larger than small\n"
     ]
    }
   ],
   "source": [
    "big = 10\n",
    "small = 1\n",
    "\n",
    "if big > small:\n",
    "    print(\"Big is larger than small\")\n",
    "else:\n",
    "    print(\"Oops..!! We've a bug in our code\")"
   ]
  },
  {
   "cell_type": "markdown",
   "metadata": {},
   "source": [
    "You can also define a <strong style='color:#333333'>function</strong>, or a <strong style='color:#333333'>variable</strong> in a cell, and reference it in different cell(s) afterwards, given they are valid in the Scope"
   ]
  },
  {
   "cell_type": "markdown",
   "metadata": {},
   "source": [
    "Let's take an example. Let's define a function to print <strong style='color:#333333'>double of the number</strong> which is passed as an argument."
   ]
  },
  {
   "cell_type": "markdown",
   "metadata": {},
   "source": [
    "Activate the next cell and run the code so as to define the function <strong style='color:#333333'>doubleIt</strong>"
   ]
  },
  {
   "cell_type": "code",
   "execution_count": 5,
   "metadata": {},
   "outputs": [],
   "source": [
    "def doubleIt(n):\n",
    "    print(2*n)"
   ]
  },
  {
   "cell_type": "markdown",
   "metadata": {},
   "source": [
    "Now we'll use the above function, to double any number. Let's see, what's the double of 42."
   ]
  },
  {
   "cell_type": "markdown",
   "metadata": {},
   "source": [
    "Remember to activate the cell, and run the code using either *Shift + Enter* or *Ctrl + Enter* or *Alt + Enter*."
   ]
  },
  {
   "cell_type": "code",
   "execution_count": 6,
   "metadata": {},
   "outputs": [
    {
     "name": "stdout",
     "output_type": "stream",
     "text": [
      "84\n"
     ]
    }
   ],
   "source": [
    "doubleIt(42)"
   ]
  },
  {
   "cell_type": "markdown",
   "metadata": {},
   "source": [
    "Now it is your turn to double the number of your choice. In the cell below, call *doubleIt* function with any number as an argument"
   ]
  },
  {
   "cell_type": "markdown",
   "metadata": {
    "collapsed": true
   },
   "source": [
    "##### Let us look at some of the libraries that are currently used on Quantra Portal."
   ]
  },
  {
   "cell_type": "code",
   "execution_count": 7,
   "metadata": {
    "scrolled": false
   },
   "outputs": [
    {
     "name": "stdout",
     "output_type": "stream",
     "text": [
      "Package                 Version\n",
      "----------------------- -------------------\n",
      "absl-py                 0.15.0\n",
      "appdirs                 1.4.4\n",
      "arch                    4.19\n",
      "argon2-cffi             21.3.0\n",
      "argon2-cffi-bindings    21.2.0\n",
      "astor                   0.8.1\n",
      "asttokens               2.0.5\n",
      "astunparse              1.6.3\n",
      "attrs                   22.1.0\n",
      "backcall                0.2.0\n",
      "backtrader              1.9.76.123\n",
      "beautifulsoup4          4.11.1\n",
      "bert-serving-client     1.9.8\n",
      "bert-serving-server     1.9.8\n",
      "bleach                  5.0.1\n",
      "bokeh                   2.3.2\n",
      "botometer               1.6\n",
      "Bottleneck              1.3.5\n",
      "bs4                     0.0.1\n",
      "cachetools              5.2.0\n",
      "certifi                 2022.6.15\n",
      "cffi                    1.15.1\n",
      "charset-normalizer      2.1.0\n",
      "click                   8.1.3\n",
      "cryptocompare           0.7.5\n",
      "cssselect               1.1.0\n",
      "cvxpy                   1.1.13\n",
      "cycler                  0.11.0\n",
      "Cython                  0.29.32\n",
      "dateparser              1.1.1\n",
      "debugpy                 1.6.2\n",
      "decorator               5.1.1\n",
      "defusedxml              0.7.1\n",
      "dill                    0.3.3\n",
      "ecos                    2.0.10\n",
      "empyrical-reloaded      0.5.8\n",
      "entrypoints             0.4\n",
      "et-xmlfile              1.1.0\n",
      "executing               0.9.1\n",
      "fake-useragent          0.1.11\n",
      "fastjsonschema          2.16.1\n",
      "feedparser              6.0.10\n",
      "flatbuffers             1.12\n",
      "fredapi                 0.4.3\n",
      "gast                    0.4.0\n",
      "gensim                  3.8.3\n",
      "google-auth             2.9.1\n",
      "google-auth-oauthlib    0.4.6\n",
      "google-pasta            0.2.0\n",
      "GoogleNews              1.6.4\n",
      "GPUtil                  1.4.0\n",
      "graphviz                0.16\n",
      "grpcio                  1.34.1\n",
      "h5py                    3.1.0\n",
      "Historic-Crypto         0.1.4\n",
      "htmlmin                 0.1.12\n",
      "hurst                   0.0.5\n",
      "idna                    3.3\n",
      "ImageHash               4.2.1\n",
      "importlib-metadata      4.12.0\n",
      "inflection              0.5.1\n",
      "iniconfig               1.1.1\n",
      "ipykernel               6.15.1\n",
      "ipython                 8.4.0\n",
      "ipython-genutils        0.2.0\n",
      "ipywidgets              7.7.1\n",
      "jedi                    0.18.1\n",
      "Jinja2                  3.1.2\n",
      "joblib                  1.1.0\n",
      "jsonschema              4.8.0\n",
      "jupyter                 1.0.0\n",
      "jupyter-client          7.3.4\n",
      "jupyter-console         6.4.4\n",
      "jupyter-core            4.11.1\n",
      "jupyterlab-pygments     0.2.2\n",
      "jupyterlab-widgets      1.1.1\n",
      "keras-nightly           2.5.0.dev2021032900\n",
      "Keras-Preprocessing     1.1.2\n",
      "kiwisolver              1.4.4\n",
      "llvmlite                0.36.0\n",
      "lml                     0.1.0\n",
      "lxml                    4.9.1\n",
      "Markdown                3.4.1\n",
      "MarkupSafe              2.1.1\n",
      "matplotlib              3.3.4+1.g462dba186\n",
      "matplotlib-inline       0.1.3\n",
      "mibian                  0.1.3\n",
      "missingno               0.5.1\n",
      "mistune                 0.8.4\n",
      "monthly-returns-heatmap 0.0.11\n",
      "more-itertools          8.13.0\n",
      "mplfinance              0.12.7a17\n",
      "multimethod             1.4\n",
      "multitasking            0.0.11\n",
      "nbclient                0.6.6\n",
      "nbconvert               6.5.0\n",
      "nbformat                5.4.0\n",
      "nbserverext             1.0.0\n",
      "nest-asyncio            1.5.5\n",
      "networkx                2.8.5\n",
      "nltk                    3.6.2\n",
      "notebook                6.4.12\n",
      "nsepy                   0.8\n",
      "numba                   0.53.1\n",
      "numpy                   1.19.5\n",
      "oauthlib                3.2.0\n",
      "openpyxl                3.0.7\n",
      "opt-einsum              3.3.0\n",
      "osqp                    0.6.2.post5\n",
      "packaging               21.3\n",
      "pandas                  1.2.4\n",
      "pandas-datareader       0.10.0\n",
      "pandas-profiling        3.0.0\n",
      "pandocfilters           1.5.0\n",
      "parse                   1.19.0\n",
      "parso                   0.8.3\n",
      "patsy                   0.5.2\n",
      "pexpect                 4.8.0\n",
      "phik                    0.12.2\n",
      "pickleshare             0.7.5\n",
      "Pillow                  9.2.0\n",
      "pip                     21.1.2\n",
      "pluggy                  1.0.0\n",
      "prometheus-client       0.14.1\n",
      "prompt-toolkit          3.0.30\n",
      "property-cached         1.6.4\n",
      "protobuf                3.19.4\n",
      "psutil                  5.9.1\n",
      "ptyprocess              0.7.0\n",
      "pure-eval               0.2.2\n",
      "py                      1.11.0\n",
      "pyasn1                  0.4.8\n",
      "pyasn1-modules          0.2.8\n",
      "pycparser               2.21\n",
      "pydantic                1.9.1\n",
      "pyee                    8.2.2\n",
      "pyexcel                 0.6.6\n",
      "pyexcel-io              0.6.6\n",
      "pyfolio-reloaded        0.9.4\n",
      "Pygments                2.12.0\n",
      "pyparsing               3.0.9\n",
      "pyppeteer               1.0.2\n",
      "pyquery                 1.4.3\n",
      "pyrsistent              0.18.1\n",
      "PySocks                 1.7.1\n",
      "pytest                  7.1.2\n",
      "python-dateutil         2.8.2\n",
      "python-Levenshtein      0.12.2\n",
      "pytz                    2022.1\n",
      "pytz-deprecation-shim   0.1.0.post0\n",
      "PyWavelets              1.3.0\n",
      "PyYAML                  6.0\n",
      "pyzmq                   23.2.0\n",
      "qdldl                   0.1.5.post2\n",
      "qtconsole               5.3.1\n",
      "QtPy                    2.1.0\n",
      "Quandl                  3.6.1\n",
      "regex                   2022.3.2\n",
      "requests                2.28.1\n",
      "requests-html           0.10.0\n",
      "requests-oauthlib       1.3.1\n",
      "rsa                     4.9\n",
      "scikit-learn            1.1.1\n",
      "scipy                   1.7.0\n",
      "scs                     3.2.0\n",
      "seaborn                 0.11.2\n",
      "Send2Trash              1.8.0\n",
      "setuptools              57.0.0\n",
      "sgmllib3k               1.0.0\n",
      "simfin                  0.8.1\n",
      "six                     1.15.0\n",
      "smart-open              6.0.0\n",
      "soupsieve               2.3.2.post1\n",
      "stack-data              0.3.0\n",
      "statsmodels             0.12.2\n",
      "strategy-analytics      0.0.0.2\n",
      "TA-Lib                  0.4.18\n",
      "tabulate                0.8.9\n",
      "tangled-up-in-unicode   0.1.0\n",
      "tensorboard             2.9.1\n",
      "tensorboard-data-server 0.6.1\n",
      "tensorboard-plugin-wit  1.8.1\n",
      "tensorflow              2.5.0\n",
      "tensorflow-estimator    2.5.0\n",
      "tensorflow-gpu          2.5.0\n",
      "termcolor               1.1.0\n",
      "terminado               0.15.0\n",
      "texttable               1.6.4\n",
      "threadpoolctl           3.1.0\n",
      "tinycss2                1.1.1\n",
      "tomli                   2.0.1\n",
      "tornado                 6.2\n",
      "tqdm                    4.64.0\n",
      "traitlets               5.3.0\n",
      "tweepy                  3.10.0\n",
      "typing-extensions       3.7.4.3\n",
      "tzdata                  2022.1\n",
      "tzlocal                 4.2\n",
      "urllib3                 1.26.11\n",
      "vaderSentiment          3.3.2\n",
      "visions                 0.7.1\n",
      "w3lib                   1.22.0\n",
      "wbgapi                  1.0.5\n",
      "wcwidth                 0.2.5\n",
      "webencodings            0.5.1\n",
      "websockets              10.3\n",
      "Werkzeug                2.2.1\n",
      "wheel                   0.36.2\n",
      "widgetsnbextension      3.6.1\n",
      "wrapt                   1.12.1\n",
      "xgboost                 1.4.1\n",
      "xlrd                    2.0.1\n",
      "yahoo-earnings-calendar 0.6.0\n",
      "yahoo-fin               0.8.9.1\n",
      "yahoofinancials         1.6\n",
      "yfinance                0.1.63\n",
      "zipp                    3.8.1\n",
      "\u001b[33mWARNING: You are using pip version 21.1.2; however, version 25.0.1 is available.\n",
      "You should consider upgrading via the '/usr/local/bin/python -m pip install --upgrade pip' command.\u001b[0m\n"
     ]
    }
   ],
   "source": [
    "!pip list --format=columns"
   ]
  },
  {
   "cell_type": "markdown",
   "metadata": {},
   "source": [
    "#### Different Codes for different versions"
   ]
  },
  {
   "cell_type": "markdown",
   "metadata": {},
   "source": [
    "##### Sometimes due to version changes the code can also change.\n",
    "\n",
    "### Pandas Version differences\n",
    "\n",
    "### Rolling : \n",
    "##### The older versions of pandas use the following code to calculate the rolling function\n",
    "Link- https://pandas.pydata.org/pandas-docs/version/0.17.0/generated/pandas.rolling_sum.html\n",
    "\n",
    "Syntax: pd.rolling_sum(dataframe.Column_name)\n",
    "\n",
    "##### And newer versions of pandas use the following code to calculate the rolling functions\n",
    "Link- https://pandas.pydata.org/pandas-docs/stable/generated/pandas.core.window.Rolling.sum.html\n",
    "\n",
    "Syntax: dataframe.Column_name.rolling().sum()\n",
    "\n",
    "### Expanding \n",
    "\n",
    "##### The older versions of pandas use the following code to calculate the expanding sum\n",
    "Link- https://pandas.pydata.org/pandas-docs/version/0.17.0/generated/pandas.expanding_sum.html\n",
    "\n",
    "Syntax: pd.expanding_sum(dataframe.Column_name)\n",
    "\n",
    "##### And newer versions of pandas use the following code to calculate the expanding sum\n",
    "Link- https://pandas.pydata.org/pandas-docs/stable/generated/pandas.DataFrame.expanding.html\n",
    "\n",
    "Syntax: dataframe.Column_name.expanding().sum()\n"
   ]
  },
  {
   "cell_type": "markdown",
   "metadata": {},
   "source": [
    "### Sklearn Version differences\n",
    "\n",
    "##### Older versions of sklearn have the train_test_split was located in the cross_validation module\n",
    "Link: http://scikit-learn.org/0.16/modules/generated/sklearn.cross_validation.train_test_split.html\n",
    "\n",
    "Syntax: from sklearn.cross_validation import train_test_split\n",
    "\n",
    "\n",
    "##### However, currently it's in the model_selection module\n",
    "Link: http://scikit-learn.org/stable/modules/generated/sklearn.model_selection.cross_validate.html\n",
    "\n",
    "Syntax: from sklearn.model_selection import train_test_split "
   ]
  },
  {
   "cell_type": "markdown",
   "metadata": {},
   "source": [
    "### Print Statements\n",
    "\n",
    "Older versions of Python (2+ and older) have the print statement without the parenthesis\n",
    "\n",
    "Link: https://docs.python.org/2/tutorial/inputoutput.html\n",
    "\n",
    "Syntax: print \"Quantra is Awesome\"\n",
    "\n",
    "Newer versions of Python (3+ and newer) need the parenthesis to specify the object that needs to be printed\n",
    "\n",
    "Link: https://docs.python.org/3/tutorial/inputoutput.html\n",
    "\n",
    "Syntax: print(\"Quantra is Awesome\")"
   ]
  },
  {
   "cell_type": "markdown",
   "metadata": {},
   "source": [
    "### To avoid errors due to version differences on Quantra and your local machine we suggest you use the same versions for the libraries as those shown above"
   ]
  },
  {
   "cell_type": "markdown",
   "metadata": {},
   "source": [
    "This brings us to the end of this introductory tutorial of \"How to use Notebooks in Quantra\". We hope that you've enrolled in our courses, and are focusing on the topics of your interest.\n",
    "\n",
    "Happy Learning!!"
   ]
  },
  {
   "cell_type": "code",
   "execution_count": null,
   "metadata": {
    "collapsed": true
   },
   "outputs": [],
   "source": []
  }
 ],
 "metadata": {
  "anaconda-cloud": {},
  "kernelspec": {
   "display_name": "Python 3 (ipykernel)",
   "language": "python",
   "name": "python3"
  },
  "language_info": {
   "codemirror_mode": {
    "name": "ipython",
    "version": 3
   },
   "file_extension": ".py",
   "mimetype": "text/x-python",
   "name": "python",
   "nbconvert_exporter": "python",
   "pygments_lexer": "ipython3",
   "version": "3.9.5"
  }
 },
 "nbformat": 4,
 "nbformat_minor": 1
}
